{
 "cells": [
  {
   "cell_type": "markdown",
   "metadata": {},
   "source": [
    "２ノードのグラフィカルモデル でサンプリングEMアルゴリズムを実装する。"
   ]
  },
  {
   "cell_type": "code",
   "execution_count": 732,
   "metadata": {},
   "outputs": [],
   "source": [
    "import numpy as np\n",
    "import matplotlib.pyplot as plt\n",
    "import pandas as pd\n",
    "import sympy\n",
    "from sklearn.linear_model import LinearRegression,Ridge,Lasso\n",
    "import math\n",
    "from sklearn import preprocessing"
   ]
  },
  {
   "cell_type": "markdown",
   "metadata": {},
   "source": [
    "関数（２ノード）"
   ]
  },
  {
   "cell_type": "code",
   "execution_count": 911,
   "metadata": {},
   "outputs": [],
   "source": [
    "#尤度の式\n",
    "def loglikelihood(df,pa_mu,pa_sigma,child_sigma,weight,bias):\n",
    "    loglikelihood = 0\n",
    "    for i in range(len(df)):\n",
    "        loglikelihood += -2*np.log(2*np.pi)/2 - np.log(pa_sigma)/2 -np.log(child_sigma)/2\\\n",
    "        - (df[\"pa\"][i] - pa_mu)**2/(2*pa_sigma) - (df[\"child\"][i] - weight*df[\"pa\"][i] - bias)**2/(2*child_sigma)\n",
    "    return loglikelihood    "
   ]
  },
  {
   "cell_type": "code",
   "execution_count": 1042,
   "metadata": {},
   "outputs": [],
   "source": [
    "#親ノードの条件付き分布の平均と分散を求める式→正しい。（解析的な解と照合）\n",
    "def conditional_paramators_2_node(weights,df,pa_mu,pa_sigma,child_sigma):\n",
    "    conditional_mus,conditional_sigmas = [],[]\n",
    "    for i in range(len(df)):\n",
    "        sympy.var(\"x\")\n",
    "        f = -(x - pa_mu)**2/(2*pa_sigma) - (df[\"child\"][i] -weights[0]*x - weights[1])**2/(2*child_sigma)\n",
    "         #二次項を評価\n",
    "        condi_sigma_inv = -2*f.expand(x).coeff(x,2)\n",
    "        #線形項を評価\n",
    "        condi_mu = f.expand(x).coeff(x,1)/condi_sigma_inv\n",
    "        condi_sigma = 1/condi_sigma_inv \n",
    "    \n",
    "        conditional_mus.append(condi_mu)\n",
    "        conditional_sigmas.append(condi_sigma)\n",
    "    \n",
    "    return conditional_mus, conditional_sigmas"
   ]
  },
  {
   "cell_type": "code",
   "execution_count": 1315,
   "metadata": {},
   "outputs": [],
   "source": [
    "#最小二乗法の関数（確認済み）\n",
    "def LSM(x,y):\n",
    "    fun = LinearRegression()\n",
    "    fun.fit(x,y)\n",
    "    return [fun.coef_.tolist()[0][0],fun.intercept_[0]]#fun.intercept_[0]\n",
    "\n",
    "def weights_update(df):# 重みの更新を行う関数。\n",
    "    w = LSM(df[\"pa\"].values.reshape(-1,1),df[\"child\"].values.reshape(-1,1))\n",
    "    \n",
    "    return w"
   ]
  },
  {
   "cell_type": "code",
   "execution_count": 1316,
   "metadata": {},
   "outputs": [],
   "source": [
    "def update_mu_sigma(df):\n",
    "    pa_mu = df[\"pa\"].mean()\n",
    "    pa_sigma = df[\"pa\"].var()\n",
    "    \n",
    "    return pa_mu,pa_sigma"
   ]
  },
  {
   "cell_type": "code",
   "execution_count": 1317,
   "metadata": {},
   "outputs": [],
   "source": [
    "def monte_carlo_EM_2_node(weights,df,num_iter):\n",
    "    df = df\n",
    "    pa_mu = df[\"pa\"].mean()\n",
    "    pa_sigma = df[\"pa\"].var()\n",
    "    child_sigma = 0.25#分散0.25\n",
    "    \n",
    "    #記録用\n",
    "    loglikelihood_list = []\n",
    "    weights_list = []\n",
    "    intercept_list = []\n",
    "    mu_list,sigma_list = [],[]\n",
    "    for h in range(num_iter):\n",
    "        condi_mus,condi_sigmas = conditional_paramators_2_node(weights,df,pa_mu,pa_sigma,child_sigma)\n",
    "        #Eステップ\n",
    "        #サンプリングした値でdataframeの値を更新。\n",
    "        for i in range(len(df)):\n",
    "            df[\"pa\"][i] = np.random.normal(condi_mus[i],math.sqrt(condi_sigmas[i]),1)[0]#np.random.normal の引数は平均と標準偏差\n",
    "        #Mステップ    \n",
    "        #weights = weights_update(df) #重みを更新 平均、分散のみ推定\n",
    "        pa_mu,pa_sigma = update_mu_sigma(df)#平均と分散を更新  重みのみ更新\n",
    "        \n",
    "        loglikelihood_list.append(loglikelihood(df,pa_mu,pa_sigma,child_sigma,weights[0],weights[1]))\n",
    "        weights_list.append(weights[0])#重みの係数を記録\n",
    "        intercept_list.append(weights[1])#重みの切片を記録\n",
    "        mu_list.append(pa_mu)#平均を記録\n",
    "        sigma_list.append(pa_sigma)#分散を記録\n",
    "    return  weights_list,intercept_list,mu_list,sigma_list,loglikelihood_list"
   ]
  },
  {
   "cell_type": "markdown",
   "metadata": {},
   "source": [
    "テストデータを作る。"
   ]
  },
  {
   "cell_type": "code",
   "execution_count": 1318,
   "metadata": {},
   "outputs": [],
   "source": [
    "pa = np.random.normal(0,1,100)#親ノード　平均０　標準偏差１ P(x)\n",
    "\n",
    "child = []\n",
    "for i in range(len(pa)):\n",
    "    sample = np.random.normal(pa[i]*3 + 2,0.5,1)[0]#標準偏差0.5 分散0.25\n",
    "    child.append(sample)\n",
    "    \n",
    "child = np.array(child)#p(y|x)\n",
    "\n",
    "data_list = np.array([pa,child]).T\n",
    "true_test_df1 = pd.DataFrame(data=data_list,columns = [\"pa\",\"child\"])#真のテストデータ"
   ]
  },
  {
   "cell_type": "code",
   "execution_count": 1319,
   "metadata": {},
   "outputs": [],
   "source": [
    "test_df = true_test_df1\n",
    "test_df[\"pa\"] = np.random.normal(3,3,100)"
   ]
  },
  {
   "cell_type": "code",
   "execution_count": null,
   "metadata": {},
   "outputs": [],
   "source": [
    "weights_list,intercept_list,mu_list,sigma_list,loglikelihood_list =  monte_carlo_EM_2_node([3,2],test_df,400)"
   ]
  },
  {
   "cell_type": "code",
   "execution_count": null,
   "metadata": {},
   "outputs": [],
   "source": [
    "plt.plot(loglikelihood_list,label=\"尤度\")\n",
    "plt.xlabel(\"times of sampling\")\n",
    "plt.ylabel(\"likelihood\")\n",
    "#尤度"
   ]
  },
  {
   "cell_type": "code",
   "execution_count": null,
   "metadata": {},
   "outputs": [],
   "source": [
    "plt.plot(weights_list)#重みの係数\n",
    "plt.xlabel(\"times of sampling\")\n",
    "plt.ylabel(\"coefficient of weight\")"
   ]
  },
  {
   "cell_type": "code",
   "execution_count": null,
   "metadata": {},
   "outputs": [],
   "source": [
    "plt.plot(intercept_list)#重みの切片\n",
    "plt.xlabel(\"times of sampling\")\n",
    "plt.ylabel(\"intercept of weight\")"
   ]
  },
  {
   "cell_type": "code",
   "execution_count": null,
   "metadata": {},
   "outputs": [],
   "source": [
    "plt.plot(mu_list)#平均"
   ]
  },
  {
   "cell_type": "code",
   "execution_count": null,
   "metadata": {},
   "outputs": [],
   "source": [
    "plt.plot(sigma_list)#分散"
   ]
  },
  {
   "cell_type": "code",
   "execution_count": null,
   "metadata": {},
   "outputs": [],
   "source": []
  },
  {
   "cell_type": "code",
   "execution_count": null,
   "metadata": {},
   "outputs": [],
   "source": []
  },
  {
   "cell_type": "code",
   "execution_count": null,
   "metadata": {},
   "outputs": [],
   "source": []
  }
 ],
 "metadata": {
  "kernelspec": {
   "display_name": "Python 3",
   "language": "python",
   "name": "python3"
  },
  "language_info": {
   "codemirror_mode": {
    "name": "ipython",
    "version": 3
   },
   "file_extension": ".py",
   "mimetype": "text/x-python",
   "name": "python",
   "nbconvert_exporter": "python",
   "pygments_lexer": "ipython3",
   "version": "3.7.6"
  }
 },
 "nbformat": 4,
 "nbformat_minor": 4
}
