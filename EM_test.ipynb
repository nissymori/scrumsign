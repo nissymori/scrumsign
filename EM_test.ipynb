{
 "cells": [
  {
   "cell_type": "markdown",
   "metadata": {},
   "source": [
    "２ノードのグラフィカルモデル でサンプリングEMアルゴリズムを実装する。"
   ]
  },
  {
   "cell_type": "code",
   "execution_count": 732,
   "metadata": {},
   "outputs": [],
   "source": [
    "import numpy as np\n",
    "import matplotlib.pyplot as plt\n",
    "import pandas as pd\n",
    "import sympy\n",
    "from sklearn.linear_model import LinearRegression,Ridge,Lasso\n",
    "import math\n",
    "from sklearn import preprocessing"
   ]
  },
  {
   "cell_type": "markdown",
   "metadata": {},
   "source": [
    "関数（２ノード）"
   ]
  },
  {
   "cell_type": "code",
   "execution_count": 911,
   "metadata": {},
   "outputs": [],
   "source": [
    "#尤度の式\n",
    "def loglikelihood(df,pa_mu,pa_sigma,child_sigma,weight,bias):\n",
    "    loglikelihood = 0\n",
    "    for i in range(len(df)):\n",
    "        loglikelihood += -2*np.log(2*np.pi)/2 - np.log(pa_sigma)/2 -np.log(child_sigma)/2\\\n",
    "        - (df[\"pa\"][i] - pa_mu)**2/(2*pa_sigma) - (df[\"child\"][i] - weight*df[\"pa\"][i] - bias)**2/(2*child_sigma)\n",
    "    return loglikelihood    "
   ]
  },
  {
   "cell_type": "code",
   "execution_count": 912,
   "metadata": {},
   "outputs": [],
   "source": [
    "#条件付き分布の解析的な平均、分散。(確認済み)\n",
    "def conditional_distribution(pa_mu,pa_sigma,weight,child_sigma,child,bias):\n",
    "    sigma = 1/((1/pa_sigma) + weight*((1/child_sigma)*weight))\n",
    "    mu = sigma*(weight*(1/child_sigma)*(child-bias) + (1/pa_sigma)*pa_mu)\n",
    "    \n",
    "    return [mu,sigma]"
   ]
  },
  {
   "cell_type": "code",
   "execution_count": 913,
   "metadata": {},
   "outputs": [],
   "source": [
    "#各行の条件付き分布の解析的に求められた平均と分散が格納されたdfを作る。\n",
    "def conditional_distribution_df_2_node(df,weight,bias):\n",
    "    mu_list = []\n",
    "    sigma_list = []\n",
    "    pa_mu = df[\"pa\"].mean()\n",
    "    pa_sigma = df[\"pa\"].var()\n",
    "    child_sigma = df[\"child\"].var()\n",
    "    \n",
    "    for i in range(len(df)):\n",
    "        mu_list.append(conditional_distribution(pa_mu,pa_sigma,weight,child_sigma,df[\"child\"][i],bias)[0])\n",
    "        sigma_list.append(conditional_distribution(pa_mu,pa_sigma,weight,child_sigma,df[\"child\"][i],bias)[1])\n",
    "    \n",
    "    return pd.DataFrame(data=np.array([mu_list,sigma_list]).T,columns=[\"mu\",\"sigma\"])"
   ]
  },
  {
   "cell_type": "code",
   "execution_count": 1042,
   "metadata": {},
   "outputs": [],
   "source": [
    "#親ノードの条件付き分布の平均と分散を求める式→正しい。（解析的な解と照合）\n",
    "def conditional_paramators_2_node(weights,df,pa_mu,pa_sigma,child_sigma):\n",
    "    conditional_mus,conditional_sigmas = [],[]\n",
    "    for i in range(len(df)):\n",
    "        sympy.var(\"x\")\n",
    "        f = -(x - pa_mu)**2/(2*pa_sigma) - (df[\"child\"][i] -weights[0]*x - weights[1])**2/(2*child_sigma)\n",
    "         #二次項を評価\n",
    "        condi_sigma_inv = -2*f.expand(x).coeff(x,2)\n",
    "        #線形項を評価\n",
    "        condi_mu = f.expand(x).coeff(x,1)/condi_sigma_inv\n",
    "        condi_sigma = 1/condi_sigma_inv \n",
    "    \n",
    "        conditional_mus.append(condi_mu)\n",
    "        conditional_sigmas.append(condi_sigma)\n",
    "    \n",
    "    return conditional_mus, conditional_sigmas"
   ]
  },
  {
   "cell_type": "code",
   "execution_count": 1043,
   "metadata": {},
   "outputs": [],
   "source": [
    "#最小二乗法の関数（確認済み）\n",
    "def LSM(x,y):\n",
    "    fun = LinearRegression()\n",
    "    fun.fit(x,y)\n",
    "    return [fun.coef_.tolist()[0][0],fun.intercept_[0]]#fun.intercept_[0]"
   ]
  },
  {
   "cell_type": "code",
   "execution_count": 1044,
   "metadata": {},
   "outputs": [],
   "source": [
    "def weights_update(df):# 重みの更新を行う関数。\n",
    "    w = LSM(df[\"pa\"].values.reshape(-1,1),df[\"child\"].values.reshape(-1,1))\n",
    "    \n",
    "    return w"
   ]
  },
  {
   "cell_type": "code",
   "execution_count": 1045,
   "metadata": {},
   "outputs": [],
   "source": [
    "def update_paramators(df):\n",
    "    pa_mu = df[\"pa\"].mean()\n",
    "    pa_sigma = df[\"pa\"].var()\n",
    "    \n",
    "    return pa_mu,pa_sigma"
   ]
  },
  {
   "cell_type": "code",
   "execution_count": 1171,
   "metadata": {},
   "outputs": [],
   "source": [
    "def monte_carlo_EM_2_node(weights,df,num_iter):\n",
    "    df = df\n",
    "    pa_mu = df[\"pa\"].mean()\n",
    "    pa_sigma = df[\"pa\"].var()\n",
    "    child_sigma = 0.25\n",
    "    #記録用\n",
    "    loglikelihood_list = []\n",
    "    weights_list = []\n",
    "    intercept_list = []\n",
    "    mu_list,sigma_list = [],[]\n",
    "    for h in range(num_iter):\n",
    "        condi_mus,condi_sigmas = conditional_paramators_2_node(weights,df,pa_mu,pa_sigma,child_sigma)\n",
    "        #Eステップ\n",
    "        #サンプリングした値でdataframeの値を更新。\n",
    "        for i in range(len(df)):\n",
    "            df[\"pa\"][i] = np.random.normal(condi_mus[i],math.sqrt(condi_sigmas[i]),1)[0]#np.random.normal の引数は平均と標準偏差\n",
    "        #Mステップ    \n",
    "        weights = weights_update(df) #重みを更新\n",
    "        #pa_mu,pa_sigma = update_paramators(df)#平均と分散を更新\n",
    "        \n",
    "        loglikelihood_list.append(loglikelihood(df,pa_mu,pa_sigma,child_sigma,weights[0],weights[1]))\n",
    "        weights_list.append(weights[0])#重みの計測を記録\n",
    "        intercept_list.append(weights[1])#重みの切片を記録\n",
    "        mu_list.append(pa_mu)#平均を記録\n",
    "        sigma_list.append(pa_sigma)#分散を記録\n",
    "    return  weights_list,intercept_list,mu_list,sigma_list,loglikelihood_list"
   ]
  },
  {
   "cell_type": "markdown",
   "metadata": {},
   "source": [
    "テストデータを作る。"
   ]
  },
  {
   "cell_type": "code",
   "execution_count": 1172,
   "metadata": {},
   "outputs": [],
   "source": [
    "pa = np.random.normal(0,1,100)#親ノード　平均０　標準偏差１ P(x)\n",
    "\n",
    "child = []\n",
    "for i in range(len(pa)):\n",
    "    sample = np.random.normal(pa[i]*3 + 2,0.5,1)[0]#標準偏差0.1 分散0.01\n",
    "    child.append(sample)\n",
    "    \n",
    "child = np.array(child)#p(y|x)\n",
    "\n",
    "data_list = np.array([pa,child]).T\n",
    "true_test_df1 = pd.DataFrame(data=data_list,columns = [\"pa\",\"child\"])#真のテストデータ"
   ]
  },
  {
   "cell_type": "code",
   "execution_count": 1173,
   "metadata": {},
   "outputs": [],
   "source": [
    "test_df = true_test_df1\n",
    "#test_df[\"pa\"] = np.random.normal(1,1,100)"
   ]
  },
  {
   "cell_type": "code",
   "execution_count": 1174,
   "metadata": {},
   "outputs": [],
   "source": [
    "weights_list,intercept_list,mu_list,sigma_list,loglikelihood_list =  monte_carlo_EM_2_node([2,1],test_df,200)"
   ]
  },
  {
   "cell_type": "code",
   "execution_count": 1175,
   "metadata": {},
   "outputs": [
    {
     "data": {
      "text/plain": [
       "Text(0, 0.5, 'likelihood')"
      ]
     },
     "execution_count": 1175,
     "metadata": {},
     "output_type": "execute_result"
    },
    {
     "data": {
      "image/png": "[encoded data removed]",
      "text/plain": [
       "<Figure size 432x288 with 1 Axes>"
      ]
     },
     "metadata": {
      "needs_background": "light"
     },
     "output_type": "display_data"
    }
   ],
   "source": [
    "plt.plot(loglikelihood_list,label=\"尤度\")\n",
    "plt.xlabel(\"times of sampling\")\n",
    "plt.ylabel(\"likelihood\")\n",
    "#尤度"
   ]
  },
  {
   "cell_type": "code",
   "execution_count": 1176,
   "metadata": {},
   "outputs": [
    {
     "data": {
      "text/plain": [
       "Text(0, 0.5, 'coefficient of weight')"
      ]
     },
     "execution_count": 1176,
     "metadata": {},
     "output_type": "execute_result"
    },
    {
     "data": {
      "image/png": "[encoded data removed]",
      "text/plain": [
       "<Figure size 432x288 with 1 Axes>"
      ]
     },
     "metadata": {
      "needs_background": "light"
     },
     "output_type": "display_data"
    }
   ],
   "source": [
    "plt.plot(weights_list)#重みの係数\n",
    "plt.xlabel(\"times of sampling\")\n",
    "plt.ylabel(\"coefficient of weight\")"
   ]
  },
  {
   "cell_type": "code",
   "execution_count": 1177,
   "metadata": {},
   "outputs": [
    {
     "data": {
      "text/plain": [
       "Text(0, 0.5, 'intercept of weight')"
      ]
     },
     "execution_count": 1177,
     "metadata": {},
     "output_type": "execute_result"
    },
    {
     "data": {
      "image/png": "[encoded data removed]",
      "text/plain": [
       "<Figure size 432x288 with 1 Axes>"
      ]
     },
     "metadata": {
      "needs_background": "light"
     },
     "output_type": "display_data"
    }
   ],
   "source": [
    "plt.plot(intercept_list)#重みの切片\n",
    "plt.xlabel(\"times of sampling\")\n",
    "plt.ylabel(\"intercept of weight\")"
   ]
  },
  {
   "cell_type": "code",
   "execution_count": 1178,
   "metadata": {},
   "outputs": [
    {
     "data": {
      "text/plain": [
       "[<matplotlib.lines.Line2D at 0x7f8a5a253a10>]"
      ]
     },
     "execution_count": 1178,
     "metadata": {},
     "output_type": "execute_result"
    },
    {
     "data": {
      "image/png": "[encoded data removed]",
      "text/plain": [
       "<Figure size 432x288 with 1 Axes>"
      ]
     },
     "metadata": {
      "needs_background": "light"
     },
     "output_type": "display_data"
    }
   ],
   "source": [
    "plt.plot(mu_list)#平均"
   ]
  },
  {
   "cell_type": "code",
   "execution_count": 1179,
   "metadata": {},
   "outputs": [
    {
     "data": {
      "text/plain": [
       "[<matplotlib.lines.Line2D at 0x7f8a5a339350>]"
      ]
     },
     "execution_count": 1179,
     "metadata": {},
     "output_type": "execute_result"
    },
    {
     "data": {
      "image/png": "[encoded data removed]",
      "text/plain": [
       "<Figure size 432x288 with 1 Axes>"
      ]
     },
     "metadata": {
      "needs_background": "light"
     },
     "output_type": "display_data"
    }
   ],
   "source": [
    "plt.plot(sigma_list)#分散"
   ]
  },
  {
   "cell_type": "code",
   "execution_count": 1180,
   "metadata": {},
   "outputs": [],
   "source": [
    "#最小二乗法の関数の確認"
   ]
  },
  {
   "cell_type": "code",
   "execution_count": 1181,
   "metadata": {},
   "outputs": [
    {
     "data": {
      "text/plain": [
       "[1.0000000000000004, 0.9999999999999991]"
      ]
     },
     "execution_count": 1181,
     "metadata": {},
     "output_type": "execute_result"
    }
   ],
   "source": [
    "LSM(np.array([1,2,3,4]).reshape(-1,1),np.array([2,3,4,5]).reshape(-1,1))#1,1隣正しい。"
   ]
  },
  {
   "cell_type": "code",
   "execution_count": 1150,
   "metadata": {},
   "outputs": [
    {
     "data": {
      "text/plain": [
       "[2.6391725611652492, 1.1012738231251196]"
      ]
     },
     "execution_count": 1150,
     "metadata": {},
     "output_type": "execute_result"
    }
   ],
   "source": [
    "#weights_updateの確認(3,4)になれば正しい。\n",
    "weights_update(true_test_df1)"
   ]
  },
  {
   "cell_type": "code",
   "execution_count": 1097,
   "metadata": {},
   "outputs": [],
   "source": [
    "#解析的に求めた条件付き分布と、サンプリングによって求めた条件付き分布の平均と分散の二乗和誤差を求める。\n",
    "def SSE(df_calc,df_sample):\n",
    "    mu_SSE = (df_calc[\"mu\"]-df_sample[\"mu\"]).sum()**2/2\n",
    "    sigma_SSE = (df_calc[\"sigma\"]-df_sample[\"sigma\"]).sum()**2/2\n",
    "    \n",
    "    return mu_SSE,sigma_SSE"
   ]
  },
  {
   "cell_type": "code",
   "execution_count": 1098,
   "metadata": {},
   "outputs": [
    {
     "data": {
      "text/plain": [
       "(6.43555509448071e-31, 0)"
      ]
     },
     "execution_count": 1098,
     "metadata": {},
     "output_type": "execute_result"
    }
   ],
   "source": [
    "condi_mus,condi_sigmas = conditional_paramators_2_node([1,1],test_df1,test_df1[\"pa\"].mean(),test_df1[\"pa\"].var(),test_df1[\"child\"].var())\n",
    "df_sample = pd.DataFrame(np.array([condi_mus,condi_sigmas]).T,columns=[\"mu\",\"sigma\"])#サンプリング\n",
    "df_calc = conditional_distribution_df_2_node(test_df1,1,1)#解析解\n",
    "SSE(df_calc,df_sample)"
   ]
  },
  {
   "cell_type": "code",
   "execution_count": 993,
   "metadata": {},
   "outputs": [],
   "source": [
    "#二乗和誤差が十分小さく、正しい条件付き分布の平均と分散が得られている。"
   ]
  },
  {
   "cell_type": "code",
   "execution_count": 994,
   "metadata": {},
   "outputs": [],
   "source": [
    "#サンプリングする手続きが正しいかどうか確認"
   ]
  },
  {
   "cell_type": "code",
   "execution_count": 995,
   "metadata": {},
   "outputs": [],
   "source": [
    "samples = np.random.normal(2,3,10000)"
   ]
  },
  {
   "cell_type": "code",
   "execution_count": 996,
   "metadata": {},
   "outputs": [
    {
     "name": "stdout",
     "output_type": "stream",
     "text": [
      "2.0315908501163 8.878816418545764\n"
     ]
    }
   ],
   "source": [
    "#平均2,分散9になっているか。\n",
    "print(samples.mean(),samples.var())#正しい"
   ]
  },
  {
   "cell_type": "code",
   "execution_count": null,
   "metadata": {},
   "outputs": [],
   "source": []
  },
  {
   "cell_type": "code",
   "execution_count": null,
   "metadata": {},
   "outputs": [],
   "source": []
  },
  {
   "cell_type": "code",
   "execution_count": null,
   "metadata": {},
   "outputs": [],
   "source": []
  },
  {
   "cell_type": "code",
   "execution_count": null,
   "metadata": {},
   "outputs": [],
   "source": []
  },
  {
   "cell_type": "code",
   "execution_count": null,
   "metadata": {},
   "outputs": [],
   "source": []
  }
 ],
 "metadata": {
  "kernelspec": {
   "display_name": "Python 3",
   "language": "python",
   "name": "python3"
  },
  "language_info": {
   "codemirror_mode": {
    "name": "ipython",
    "version": 3
   },
   "file_extension": ".py",
   "mimetype": "text/x-python",
   "name": "python",
   "nbconvert_exporter": "python",
   "pygments_lexer": "ipython3",
   "version": "3.7.6"
  }
 },
 "nbformat": 4,
 "nbformat_minor": 4
}
